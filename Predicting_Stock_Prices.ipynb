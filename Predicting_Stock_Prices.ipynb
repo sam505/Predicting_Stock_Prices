{
  "nbformat": 4,
  "nbformat_minor": 5,
  "metadata": {
    "kernelspec": {
      "display_name": "Python 3",
      "language": "python",
      "name": "python3"
    },
    "language_info": {
      "codemirror_mode": {
        "name": "ipython",
        "version": 3
      },
      "file_extension": ".py",
      "mimetype": "text/x-python",
      "name": "python",
      "nbconvert_exporter": "python",
      "pygments_lexer": "ipython3",
      "version": "3.7.11"
    },
    "colab": {
      "name": "Predicting_Stock_Prices.ipynb",
      "provenance": []
    },
    "accelerator": "GPU"
  },
  "cells": [
    {
      "cell_type": "markdown",
      "metadata": {
        "id": "entertaining-debut"
      },
      "source": [
        "Importing relevant packages"
      ],
      "id": "entertaining-debut"
    },
    {
      "cell_type": "code",
      "metadata": {
        "id": "trying-drove"
      },
      "source": [
        "import tensorflow as tf\n",
        "import pandas as pd\n",
        "import numpy as np\n",
        "import matplotlib.pyplot as plt\n",
        "%matplotlib inline\n",
        "\n",
        "from tensorflow.keras.models import Sequential\n",
        "from tensorflow.keras.layers import LSTM, Dropout, Dense\n",
        "from sklearn.preprocessing import MinMaxScaler\n",
        "from sklearn.metrics import classification_report"
      ],
      "id": "trying-drove",
      "execution_count": 1,
      "outputs": []
    },
    {
      "cell_type": "markdown",
      "metadata": {
        "id": "assigned-representative"
      },
      "source": [
        "Downloading and unzipping the dataset"
      ],
      "id": "assigned-representative"
    },
    {
      "cell_type": "code",
      "metadata": {
        "id": "searching-radar",
        "outputId": "9fceefc5-9c0a-4ad1-b6d9-37e4a1ab0fb9",
        "colab": {
          "base_uri": "https://localhost:8080/"
        }
      },
      "source": [
        "# Downloading dataset\n",
        "!wget https://data-flair.s3.ap-south-1.amazonaws.com/Data-Science-Data/NSE-Tata-Global-Beverages-Limited.zip -O Dataset.zip\n",
        "    \n",
        "# Unzipping\n",
        "!unzip Dataset.zip -d Dataset"
      ],
      "id": "searching-radar",
      "execution_count": 2,
      "outputs": [
        {
          "output_type": "stream",
          "text": [
            "--2021-08-24 00:27:21--  https://data-flair.s3.ap-south-1.amazonaws.com/Data-Science-Data/NSE-Tata-Global-Beverages-Limited.zip\n",
            "Resolving data-flair.s3.ap-south-1.amazonaws.com (data-flair.s3.ap-south-1.amazonaws.com)... 52.219.62.123\n",
            "Connecting to data-flair.s3.ap-south-1.amazonaws.com (data-flair.s3.ap-south-1.amazonaws.com)|52.219.62.123|:443... connected.\n",
            "HTTP request sent, awaiting response... 200 OK\n",
            "Length: 26812 (26K) [application/zip]\n",
            "Saving to: ‘Dataset.zip’\n",
            "\n",
            "Dataset.zip         100%[===================>]  26.18K   112KB/s    in 0.2s    \n",
            "\n",
            "2021-08-24 00:27:22 (112 KB/s) - ‘Dataset.zip’ saved [26812/26812]\n",
            "\n",
            "Archive:  Dataset.zip\n",
            "  inflating: Dataset/NSE-Tata-Global-Beverages-Limited.csv  \n"
          ],
          "name": "stdout"
        }
      ]
    },
    {
      "cell_type": "code",
      "metadata": {
        "id": "alike-invite",
        "outputId": "a1f5187c-b4e6-4360-b216-70e18b79d970",
        "colab": {
          "base_uri": "https://localhost:8080/",
          "height": 359
        }
      },
      "source": [
        "df = pd.read_csv(\"Dataset/NSE-Tata-Global-Beverages-Limited.csv\")\n",
        "df.head(10)"
      ],
      "id": "alike-invite",
      "execution_count": 3,
      "outputs": [
        {
          "output_type": "execute_result",
          "data": {
            "text/html": [
              "<div>\n",
              "<style scoped>\n",
              "    .dataframe tbody tr th:only-of-type {\n",
              "        vertical-align: middle;\n",
              "    }\n",
              "\n",
              "    .dataframe tbody tr th {\n",
              "        vertical-align: top;\n",
              "    }\n",
              "\n",
              "    .dataframe thead th {\n",
              "        text-align: right;\n",
              "    }\n",
              "</style>\n",
              "<table border=\"1\" class=\"dataframe\">\n",
              "  <thead>\n",
              "    <tr style=\"text-align: right;\">\n",
              "      <th></th>\n",
              "      <th>Date</th>\n",
              "      <th>Open</th>\n",
              "      <th>High</th>\n",
              "      <th>Low</th>\n",
              "      <th>Last</th>\n",
              "      <th>Close</th>\n",
              "      <th>Total Trade Quantity</th>\n",
              "      <th>Turnover (Lacs)</th>\n",
              "    </tr>\n",
              "  </thead>\n",
              "  <tbody>\n",
              "    <tr>\n",
              "      <th>0</th>\n",
              "      <td>2018-10-08</td>\n",
              "      <td>208.00</td>\n",
              "      <td>222.25</td>\n",
              "      <td>206.85</td>\n",
              "      <td>216.00</td>\n",
              "      <td>215.15</td>\n",
              "      <td>4642146.0</td>\n",
              "      <td>10062.83</td>\n",
              "    </tr>\n",
              "    <tr>\n",
              "      <th>1</th>\n",
              "      <td>2018-10-05</td>\n",
              "      <td>217.00</td>\n",
              "      <td>218.60</td>\n",
              "      <td>205.90</td>\n",
              "      <td>210.25</td>\n",
              "      <td>209.20</td>\n",
              "      <td>3519515.0</td>\n",
              "      <td>7407.06</td>\n",
              "    </tr>\n",
              "    <tr>\n",
              "      <th>2</th>\n",
              "      <td>2018-10-04</td>\n",
              "      <td>223.50</td>\n",
              "      <td>227.80</td>\n",
              "      <td>216.15</td>\n",
              "      <td>217.25</td>\n",
              "      <td>218.20</td>\n",
              "      <td>1728786.0</td>\n",
              "      <td>3815.79</td>\n",
              "    </tr>\n",
              "    <tr>\n",
              "      <th>3</th>\n",
              "      <td>2018-10-03</td>\n",
              "      <td>230.00</td>\n",
              "      <td>237.50</td>\n",
              "      <td>225.75</td>\n",
              "      <td>226.45</td>\n",
              "      <td>227.60</td>\n",
              "      <td>1708590.0</td>\n",
              "      <td>3960.27</td>\n",
              "    </tr>\n",
              "    <tr>\n",
              "      <th>4</th>\n",
              "      <td>2018-10-01</td>\n",
              "      <td>234.55</td>\n",
              "      <td>234.60</td>\n",
              "      <td>221.05</td>\n",
              "      <td>230.30</td>\n",
              "      <td>230.90</td>\n",
              "      <td>1534749.0</td>\n",
              "      <td>3486.05</td>\n",
              "    </tr>\n",
              "    <tr>\n",
              "      <th>5</th>\n",
              "      <td>2018-09-28</td>\n",
              "      <td>234.05</td>\n",
              "      <td>235.95</td>\n",
              "      <td>230.20</td>\n",
              "      <td>233.50</td>\n",
              "      <td>233.75</td>\n",
              "      <td>3069914.0</td>\n",
              "      <td>7162.35</td>\n",
              "    </tr>\n",
              "    <tr>\n",
              "      <th>6</th>\n",
              "      <td>2018-09-27</td>\n",
              "      <td>234.55</td>\n",
              "      <td>236.80</td>\n",
              "      <td>231.10</td>\n",
              "      <td>233.80</td>\n",
              "      <td>233.25</td>\n",
              "      <td>5082859.0</td>\n",
              "      <td>11859.95</td>\n",
              "    </tr>\n",
              "    <tr>\n",
              "      <th>7</th>\n",
              "      <td>2018-09-26</td>\n",
              "      <td>240.00</td>\n",
              "      <td>240.00</td>\n",
              "      <td>232.50</td>\n",
              "      <td>235.00</td>\n",
              "      <td>234.25</td>\n",
              "      <td>2240909.0</td>\n",
              "      <td>5248.60</td>\n",
              "    </tr>\n",
              "    <tr>\n",
              "      <th>8</th>\n",
              "      <td>2018-09-25</td>\n",
              "      <td>233.30</td>\n",
              "      <td>236.75</td>\n",
              "      <td>232.00</td>\n",
              "      <td>236.25</td>\n",
              "      <td>236.10</td>\n",
              "      <td>2349368.0</td>\n",
              "      <td>5503.90</td>\n",
              "    </tr>\n",
              "    <tr>\n",
              "      <th>9</th>\n",
              "      <td>2018-09-24</td>\n",
              "      <td>233.55</td>\n",
              "      <td>239.20</td>\n",
              "      <td>230.75</td>\n",
              "      <td>234.00</td>\n",
              "      <td>233.30</td>\n",
              "      <td>3423509.0</td>\n",
              "      <td>7999.55</td>\n",
              "    </tr>\n",
              "  </tbody>\n",
              "</table>\n",
              "</div>"
            ],
            "text/plain": [
              "         Date    Open    High  ...   Close  Total Trade Quantity  Turnover (Lacs)\n",
              "0  2018-10-08  208.00  222.25  ...  215.15             4642146.0         10062.83\n",
              "1  2018-10-05  217.00  218.60  ...  209.20             3519515.0          7407.06\n",
              "2  2018-10-04  223.50  227.80  ...  218.20             1728786.0          3815.79\n",
              "3  2018-10-03  230.00  237.50  ...  227.60             1708590.0          3960.27\n",
              "4  2018-10-01  234.55  234.60  ...  230.90             1534749.0          3486.05\n",
              "5  2018-09-28  234.05  235.95  ...  233.75             3069914.0          7162.35\n",
              "6  2018-09-27  234.55  236.80  ...  233.25             5082859.0         11859.95\n",
              "7  2018-09-26  240.00  240.00  ...  234.25             2240909.0          5248.60\n",
              "8  2018-09-25  233.30  236.75  ...  236.10             2349368.0          5503.90\n",
              "9  2018-09-24  233.55  239.20  ...  233.30             3423509.0          7999.55\n",
              "\n",
              "[10 rows x 8 columns]"
            ]
          },
          "metadata": {},
          "execution_count": 3
        }
      ]
    },
    {
      "cell_type": "markdown",
      "metadata": {
        "id": "round-blond"
      },
      "source": [
        "Declaring the index column and transforming it to datetime format"
      ],
      "id": "round-blond"
    },
    {
      "cell_type": "code",
      "metadata": {
        "id": "communist-thesaurus"
      },
      "source": [
        "df[\"Date\"] = pd.to_datetime(df.Date, format=\"%Y-%m-%d\")\n",
        "df.index = df[\"Date\"]"
      ],
      "id": "communist-thesaurus",
      "execution_count": 4,
      "outputs": []
    },
    {
      "cell_type": "markdown",
      "metadata": {
        "id": "gorgeous-delicious"
      },
      "source": [
        "Plotting the closing price"
      ],
      "id": "gorgeous-delicious"
    },
    {
      "cell_type": "code",
      "metadata": {
        "id": "relative-examination",
        "outputId": "21347413-8296-4509-c67c-67229cc70600",
        "colab": {
          "base_uri": "https://localhost:8080/",
          "height": 265
        }
      },
      "source": [
        "plt.plot(df[\"Close\"], label = \"Closing Price\")\n",
        "plt.show()"
      ],
      "id": "relative-examination",
      "execution_count": 5,
      "outputs": [
        {
          "output_type": "display_data",
          "data": {
            "image/png": "[encoded data removed]",
            "text/plain": [
              "<Figure size 432x288 with 1 Axes>"
            ]
          },
          "metadata": {
            "needs_background": "light"
          }
        }
      ]
    },
    {
      "cell_type": "markdown",
      "metadata": {
        "id": "interpreted-disability"
      },
      "source": [
        "Sorting the dataset using the date time and filter Date and Close columns"
      ],
      "id": "interpreted-disability"
    },
    {
      "cell_type": "code",
      "metadata": {
        "id": "wicked-secret",
        "outputId": "b3b6808d-baac-48d9-e2ca-b54669309c19",
        "colab": {
          "base_uri": "https://localhost:8080/",
          "height": 204
        }
      },
      "source": [
        "data = df.sort_index(ascending = True, axis = 0)\n",
        "new_dataset = pd.DataFrame(index = range(0, len(df)), columns = [\"Date\", \"Close\"])\n",
        "new_dataset[\"Date\"] = data[\"Date\"].values[:]\n",
        "new_dataset[\"Close\"] = data[\"Close\"].values[:]\n",
        "new_dataset.head()"
      ],
      "id": "wicked-secret",
      "execution_count": 6,
      "outputs": [
        {
          "output_type": "execute_result",
          "data": {
            "text/html": [
              "<div>\n",
              "<style scoped>\n",
              "    .dataframe tbody tr th:only-of-type {\n",
              "        vertical-align: middle;\n",
              "    }\n",
              "\n",
              "    .dataframe tbody tr th {\n",
              "        vertical-align: top;\n",
              "    }\n",
              "\n",
              "    .dataframe thead th {\n",
              "        text-align: right;\n",
              "    }\n",
              "</style>\n",
              "<table border=\"1\" class=\"dataframe\">\n",
              "  <thead>\n",
              "    <tr style=\"text-align: right;\">\n",
              "      <th></th>\n",
              "      <th>Date</th>\n",
              "      <th>Close</th>\n",
              "    </tr>\n",
              "  </thead>\n",
              "  <tbody>\n",
              "    <tr>\n",
              "      <th>0</th>\n",
              "      <td>2013-10-08</td>\n",
              "      <td>155.80</td>\n",
              "    </tr>\n",
              "    <tr>\n",
              "      <th>1</th>\n",
              "      <td>2013-10-09</td>\n",
              "      <td>155.55</td>\n",
              "    </tr>\n",
              "    <tr>\n",
              "      <th>2</th>\n",
              "      <td>2013-10-10</td>\n",
              "      <td>160.15</td>\n",
              "    </tr>\n",
              "    <tr>\n",
              "      <th>3</th>\n",
              "      <td>2013-10-11</td>\n",
              "      <td>160.05</td>\n",
              "    </tr>\n",
              "    <tr>\n",
              "      <th>4</th>\n",
              "      <td>2013-10-14</td>\n",
              "      <td>159.45</td>\n",
              "    </tr>\n",
              "  </tbody>\n",
              "</table>\n",
              "</div>"
            ],
            "text/plain": [
              "        Date   Close\n",
              "0 2013-10-08  155.80\n",
              "1 2013-10-09  155.55\n",
              "2 2013-10-10  160.15\n",
              "3 2013-10-11  160.05\n",
              "4 2013-10-14  159.45"
            ]
          },
          "metadata": {},
          "execution_count": 6
        }
      ]
    },
    {
      "cell_type": "markdown",
      "metadata": {
        "id": "martial-verse"
      },
      "source": [
        "Normalizing the new dataset that has the Date and Closing Price"
      ],
      "id": "martial-verse"
    },
    {
      "cell_type": "code",
      "metadata": {
        "id": "cooperative-exhibit",
        "outputId": "6a96897d-eadb-4f74-ecad-3f4531f10653",
        "colab": {
          "base_uri": "https://localhost:8080/"
        }
      },
      "source": [
        "scaler = MinMaxScaler(feature_range = (0, 1))\n",
        "final_dataset = new_dataset.values\n",
        "\n",
        "#80% training set and 20% validation set\n",
        "\n",
        "train_set = final_dataset[0:int(0.8*len(final_dataset)),:]\n",
        "valid_set = final_dataset[int(0.8*len(final_dataset)):,:]\n",
        "print(len(train_set), len(valid_set))"
      ],
      "id": "cooperative-exhibit",
      "execution_count": 7,
      "outputs": [
        {
          "output_type": "stream",
          "text": [
            "988 247\n"
          ],
          "name": "stdout"
        }
      ]
    },
    {
      "cell_type": "code",
      "metadata": {
        "id": "incoming-sandwich"
      },
      "source": [
        "new_dataset.index = new_dataset.Date\n",
        "new_dataset.drop(\"Date\", axis = 1, inplace = True)\n",
        "\n",
        "scaled_data = scaler.fit_transform(new_dataset)"
      ],
      "id": "incoming-sandwich",
      "execution_count": 8,
      "outputs": []
    },
    {
      "cell_type": "code",
      "metadata": {
        "id": "medical-italian"
      },
      "source": [
        "x_train = []\n",
        "y_train = []\n",
        "for i in range(60, len(train_set)):\n",
        "    x_train.append(scaled_data[i-60:i,0])\n",
        "    y_train.append(scaled_data[i, 0])"
      ],
      "id": "medical-italian",
      "execution_count": 9,
      "outputs": []
    },
    {
      "cell_type": "code",
      "metadata": {
        "id": "exciting-hierarchy",
        "outputId": "e2bb9c08-2aaa-4ab1-e364-393a359193f0",
        "colab": {
          "base_uri": "https://localhost:8080/"
        }
      },
      "source": [
        "x_train = np.array(x_train)\n",
        "y_train = np.array(y_train)\n",
        "print(x_train.shape, y_train.shape)"
      ],
      "id": "exciting-hierarchy",
      "execution_count": 10,
      "outputs": [
        {
          "output_type": "stream",
          "text": [
            "(928, 60) (928,)\n"
          ],
          "name": "stdout"
        }
      ]
    },
    {
      "cell_type": "code",
      "metadata": {
        "id": "featured-hormone",
        "outputId": "46e07dad-42d2-4e6a-9ec7-0e64f3919bc8",
        "colab": {
          "base_uri": "https://localhost:8080/"
        }
      },
      "source": [
        "x_train = np.reshape(x_train, (x_train.shape[0], x_train.shape[1], 1))\n",
        "print(x_train.shape)"
      ],
      "id": "featured-hormone",
      "execution_count": 11,
      "outputs": [
        {
          "output_type": "stream",
          "text": [
            "(928, 60, 1)\n"
          ],
          "name": "stdout"
        }
      ]
    },
    {
      "cell_type": "markdown",
      "metadata": {
        "id": "enclosed-sociology"
      },
      "source": [
        "Building LSTM Model"
      ],
      "id": "enclosed-sociology"
    },
    {
      "cell_type": "code",
      "metadata": {
        "id": "controlled-madison",
        "outputId": "77c65b80-5cab-4932-e4d0-952b0ce2ce63",
        "colab": {
          "base_uri": "https://localhost:8080/"
        }
      },
      "source": [
        "model = Sequential()\n",
        "model.add(LSTM(units=50, return_sequences=True, input_shape=(x_train.shape[1], 1)))\n",
        "model.add(LSTM(units=50))\n",
        "model.add(Dense(1))\n",
        "\n",
        "model.compile(loss = \"mean_squared_error\", optimizer = \"adam\")\n",
        "model.summary()"
      ],
      "id": "controlled-madison",
      "execution_count": 12,
      "outputs": [
        {
          "output_type": "stream",
          "text": [
            "Model: \"sequential\"\n",
            "_________________________________________________________________\n",
            "Layer (type)                 Output Shape              Param #   \n",
            "=================================================================\n",
            "lstm (LSTM)                  (None, 60, 50)            10400     \n",
            "_________________________________________________________________\n",
            "lstm_1 (LSTM)                (None, 50)                20200     \n",
            "_________________________________________________________________\n",
            "dense (Dense)                (None, 1)                 51        \n",
            "=================================================================\n",
            "Total params: 30,651\n",
            "Trainable params: 30,651\n",
            "Non-trainable params: 0\n",
            "_________________________________________________________________\n"
          ],
          "name": "stdout"
        }
      ]
    },
    {
      "cell_type": "code",
      "metadata": {
        "id": "immune-voice",
        "outputId": "1ff81485-62c9-4dca-c381-aa7e9d4af00e",
        "colab": {
          "base_uri": "https://localhost:8080/"
        }
      },
      "source": [
        "model.fit(x_train, y_train, epochs = 10, batch_size=1, verbose=2)"
      ],
      "id": "immune-voice",
      "execution_count": 13,
      "outputs": [
        {
          "output_type": "stream",
          "text": [
            "Epoch 1/10\n",
            "928/928 - 13s - loss: 0.0011\n",
            "Epoch 2/10\n",
            "928/928 - 4s - loss: 5.3213e-04\n",
            "Epoch 3/10\n",
            "928/928 - 4s - loss: 3.5985e-04\n",
            "Epoch 4/10\n",
            "928/928 - 4s - loss: 3.0902e-04\n",
            "Epoch 5/10\n",
            "928/928 - 4s - loss: 2.6359e-04\n",
            "Epoch 6/10\n",
            "928/928 - 4s - loss: 2.4507e-04\n",
            "Epoch 7/10\n",
            "928/928 - 4s - loss: 2.5674e-04\n",
            "Epoch 8/10\n",
            "928/928 - 4s - loss: 2.5169e-04\n",
            "Epoch 9/10\n",
            "928/928 - 4s - loss: 2.3675e-04\n",
            "Epoch 10/10\n",
            "928/928 - 4s - loss: 2.2514e-04\n"
          ],
          "name": "stdout"
        },
        {
          "output_type": "execute_result",
          "data": {
            "text/plain": [
              "<keras.callbacks.History at 0x7fb7b635bbd0>"
            ]
          },
          "metadata": {},
          "execution_count": 13
        }
      ]
    },
    {
      "cell_type": "markdown",
      "metadata": {
        "id": "prime-lewis"
      },
      "source": [
        "Save model"
      ],
      "id": "prime-lewis"
    },
    {
      "cell_type": "code",
      "metadata": {
        "id": "fluid-render",
        "outputId": "489504a6-2890-4afc-bf5a-cff493ce857c",
        "colab": {
          "base_uri": "https://localhost:8080/"
        }
      },
      "source": [
        "model.save(\"Stock_Prices_Prediction.model\")"
      ],
      "id": "fluid-render",
      "execution_count": 14,
      "outputs": [
        {
          "output_type": "stream",
          "text": [
            "WARNING:absl:Found untraced functions such as lstm_cell_layer_call_fn, lstm_cell_layer_call_and_return_conditional_losses, lstm_cell_1_layer_call_fn, lstm_cell_1_layer_call_and_return_conditional_losses, lstm_cell_layer_call_fn while saving (showing 5 of 10). These functions will not be directly callable after loading.\n"
          ],
          "name": "stderr"
        },
        {
          "output_type": "stream",
          "text": [
            "INFO:tensorflow:Assets written to: Stock_Prices_Prediction.model/assets\n"
          ],
          "name": "stdout"
        },
        {
          "output_type": "stream",
          "text": [
            "INFO:tensorflow:Assets written to: Stock_Prices_Prediction.model/assets\n"
          ],
          "name": "stderr"
        }
      ]
    },
    {
      "cell_type": "markdown",
      "metadata": {
        "id": "soviet-award"
      },
      "source": [
        "Predict using the model"
      ],
      "id": "soviet-award"
    },
    {
      "cell_type": "code",
      "metadata": {
        "id": "earlier-sudan"
      },
      "source": [
        "input_data = new_dataset[len(new_dataset) - len(valid_set) - 60:].values\n",
        "input_data = scaler.transform(input_data)\n",
        "x_test = []\n",
        "for i in range(60, input_data.shape[0]):\n",
        "    x_test.append(input_data[i-60:i,0])\n",
        "    \n",
        "x_test = np.array(x_test)\n",
        "x_test = np.reshape(x_test, (x_test.shape[0], x_test.shape[1], 1))\n",
        "predicted_price = model.predict(x_test)\n",
        "predicted_price = scaler.inverse_transform(predicted_price)"
      ],
      "id": "earlier-sudan",
      "execution_count": 15,
      "outputs": []
    },
    {
      "cell_type": "markdown",
      "metadata": {
        "id": "combined-album"
      },
      "source": [
        "Visualize predicted data"
      ],
      "id": "combined-album"
    },
    {
      "cell_type": "code",
      "metadata": {
        "scrolled": true,
        "id": "cardiac-thinking",
        "outputId": "a55de492-0dbc-4bf3-d696-6a10fccc8d97",
        "colab": {
          "base_uri": "https://localhost:8080/",
          "height": 368
        }
      },
      "source": [
        "train_data = new_dataset[:int(0.8*len(final_dataset))]\n",
        "valid_data = new_dataset[int(0.8*len(final_dataset)):]\n",
        "valid_data[\"Predictions\"] = predicted_price\n",
        "plt.plot(train_data[\"Close\"])\n",
        "plt.show()"
      ],
      "id": "cardiac-thinking",
      "execution_count": 16,
      "outputs": [
        {
          "output_type": "stream",
          "text": [
            "/usr/local/lib/python3.7/dist-packages/ipykernel_launcher.py:3: SettingWithCopyWarning: \n",
            "A value is trying to be set on a copy of a slice from a DataFrame.\n",
            "Try using .loc[row_indexer,col_indexer] = value instead\n",
            "\n",
            "See the caveats in the documentation: https://pandas.pydata.org/pandas-docs/stable/user_guide/indexing.html#returning-a-view-versus-a-copy\n",
            "  This is separate from the ipykernel package so we can avoid doing imports until\n"
          ],
          "name": "stderr"
        },
        {
          "output_type": "display_data",
          "data": {
            "image/png": "[encoded data removed]",
            "text/plain": [
              "<Figure size 432x288 with 1 Axes>"
            ]
          },
          "metadata": {
            "needs_background": "light"
          }
        }
      ]
    },
    {
      "cell_type": "code",
      "metadata": {
        "id": "played-throat",
        "outputId": "d69504e4-dd4a-4423-ad5a-7b7055a73c46",
        "colab": {
          "base_uri": "https://localhost:8080/",
          "height": 299
        }
      },
      "source": [
        "plt.plot(valid_data[[\"Close\", \"Predictions\"]])"
      ],
      "id": "played-throat",
      "execution_count": 17,
      "outputs": [
        {
          "output_type": "execute_result",
          "data": {
            "text/plain": [
              "[<matplotlib.lines.Line2D at 0x7fb7b084c7d0>,\n",
              " <matplotlib.lines.Line2D at 0x7fb7b08b1510>]"
            ]
          },
          "metadata": {},
          "execution_count": 17
        },
        {
          "output_type": "display_data",
          "data": {
            "image/png": "[encoded data removed]",
            "text/plain": [
              "<Figure size 432x288 with 1 Axes>"
            ]
          },
          "metadata": {
            "needs_background": "light"
          }
        }
      ]
    },
    {
      "cell_type": "code",
      "metadata": {
        "id": "secret-topic"
      },
      "source": [
        ""
      ],
      "id": "secret-topic",
      "execution_count": 17,
      "outputs": []
    }
  ]
}